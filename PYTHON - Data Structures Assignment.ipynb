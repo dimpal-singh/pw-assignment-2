{
 "cells": [
  {
   "cell_type": "code",
   "execution_count": null,
   "id": "12eacc94-82bc-4e10-98b1-dd2c58180248",
   "metadata": {},
   "outputs": [],
   "source": [
    "# This is a single-line comment\n"
   ]
  },
  {
   "cell_type": "code",
   "execution_count": null,
   "id": "2623f634-6fe5-4364-8ef1-976cbaa8fde0",
   "metadata": {},
   "outputs": [],
   "source": [
    "\"\"\"\n",
    "This is a multi-line comment.\n",
    "It can span across multiple lines.\n",
    "\"\"\""
   ]
  },
  {
   "cell_type": "code",
   "execution_count": null,
   "id": "cae53c50-61b0-4531-a59c-88b11a7d8638",
   "metadata": {},
   "outputs": [],
   "source": [
    "# This is a multi-line comment\n",
    "# It can span across multiple lines"
   ]
  },
  {
   "cell_type": "code",
   "execution_count": 5,
   "id": "740c12e0-f205-4cdc-bcd1-1dbc71242b3e",
   "metadata": {},
   "outputs": [],
   "source": [
    "# Variable declaration and assignment\n",
    "name = \"John\"\n",
    "age = 25\n",
    "salary = 5000.00\n",
    "is_student = False"
   ]
  },
  {
   "cell_type": "code",
   "execution_count": null,
   "id": "5d5eff68-ba60-4180-8ab3-b2699022b2d4",
   "metadata": {},
   "outputs": [],
   "source": [
    "#int(): Converts a value to an integer data type. It can handle floating-point numbers, strings containing numeric characters, or even other numeric types like float or bool."
   ]
  },
  {
   "cell_type": "code",
   "execution_count": 6,
   "id": "faf50581-e50d-4f46-9d14-5df422edd95b",
   "metadata": {},
   "outputs": [],
   "source": [
    "num_float = 3.14"
   ]
  },
  {
   "cell_type": "code",
   "execution_count": 7,
   "id": "8540a76b-848e-47ae-846b-75cd9a8a0df5",
   "metadata": {},
   "outputs": [],
   "source": [
    "num_int = int(num_float)"
   ]
  },
  {
   "cell_type": "code",
   "execution_count": 8,
   "id": "5883b1db-7d97-407c-a458-9b547431c363",
   "metadata": {},
   "outputs": [
    {
     "name": "stdout",
     "output_type": "stream",
     "text": [
      "3\n"
     ]
    }
   ],
   "source": [
    "print(num_int)"
   ]
  },
  {
   "cell_type": "code",
   "execution_count": 9,
   "id": "e1265da5-1d2a-4c98-9c13-9db285092762",
   "metadata": {},
   "outputs": [],
   "source": [
    "#float(): Converts a value to a floating-point data type. It can convert integers, strings with numeric characters, or other numeric types."
   ]
  },
  {
   "cell_type": "code",
   "execution_count": 10,
   "id": "5364b3d0-c67a-4fb5-9bef-6f556b213f21",
   "metadata": {},
   "outputs": [],
   "source": [
    "num_int = 5\n",
    "num_float = float(num_int)  \n"
   ]
  },
  {
   "cell_type": "code",
   "execution_count": 11,
   "id": "aafe49d6-5d92-4e7b-aa66-8d97dc7b63eb",
   "metadata": {},
   "outputs": [
    {
     "name": "stdout",
     "output_type": "stream",
     "text": [
      "5.0\n"
     ]
    }
   ],
   "source": [
    "print(num_float)"
   ]
  },
  {
   "cell_type": "code",
   "execution_count": 12,
   "id": "2da6b51b-9231-43cc-95c8-432ea0c16c56",
   "metadata": {},
   "outputs": [],
   "source": [
    "#str(): Converts a value to a string data type. It can convert integers, floating-point numbers, Booleans, or any other data type."
   ]
  },
  {
   "cell_type": "code",
   "execution_count": 13,
   "id": "015914f0-9931-4904-8462-a3575345aa89",
   "metadata": {},
   "outputs": [],
   "source": [
    "num_int = 10\n",
    "num_str = str(num_int) \n"
   ]
  },
  {
   "cell_type": "code",
   "execution_count": 14,
   "id": "488c2e3b-7606-4f0d-9bb6-140ca4e4b5ab",
   "metadata": {},
   "outputs": [
    {
     "name": "stdout",
     "output_type": "stream",
     "text": [
      "10\n"
     ]
    }
   ],
   "source": [
    "print(num_str)"
   ]
  },
  {
   "cell_type": "code",
   "execution_count": 15,
   "id": "b5e1aa5a-c68a-499d-8b78-e497cbe1be4d",
   "metadata": {},
   "outputs": [],
   "source": [
    "#bool(): Converts a value to a Boolean data type. It can convert integers, floating-point numbers, strings, or other data types. Any value that is considered \"truthy\" (non-zero, non-empty, or True) will be converted to True, and \"falsy\" values (zero, empty, or False) will be converted to False.\n"
   ]
  },
  {
   "cell_type": "code",
   "execution_count": 16,
   "id": "a9ab52c5-0de8-4298-ac91-43c3f51d8c8b",
   "metadata": {},
   "outputs": [],
   "source": [
    "num_int = 0\n",
    "is_true = bool(num_int)  "
   ]
  },
  {
   "cell_type": "code",
   "execution_count": 17,
   "id": "731cbb09-d1c0-46c3-99c1-96286f0e5092",
   "metadata": {},
   "outputs": [
    {
     "name": "stdout",
     "output_type": "stream",
     "text": [
      "False\n"
     ]
    }
   ],
   "source": [
    "print(is_true)"
   ]
  },
  {
   "cell_type": "code",
   "execution_count": 18,
   "id": "11cd0f10-fcb4-4918-a7c5-bc07383c7bda",
   "metadata": {},
   "outputs": [],
   "source": [
    "#list(), tuple(), and set(): These functions convert iterable objects like lists, tuples, or strings to their respective data types. They can also be used to create new instances of those data types."
   ]
  },
  {
   "cell_type": "code",
   "execution_count": 19,
   "id": "3df4dc0a-1fd3-4642-b425-865901029d0b",
   "metadata": {},
   "outputs": [],
   "source": [
    "str_value = \"Hello\""
   ]
  },
  {
   "cell_type": "code",
   "execution_count": 20,
   "id": "d79c1d93-56d8-416b-96e7-a6efb5bdecae",
   "metadata": {},
   "outputs": [],
   "source": [
    "list_value = list(str_value)"
   ]
  },
  {
   "cell_type": "code",
   "execution_count": 21,
   "id": "ea49acd9-c40e-4225-aced-c54f82c22952",
   "metadata": {},
   "outputs": [
    {
     "name": "stdout",
     "output_type": "stream",
     "text": [
      "['H', 'e', 'l', 'l', 'o']\n"
     ]
    }
   ],
   "source": [
    "print(list_value)"
   ]
  },
  {
   "cell_type": "code",
   "execution_count": 22,
   "id": "dd26fdc0-9647-457c-a168-bca45c328d6c",
   "metadata": {},
   "outputs": [],
   "source": [
    "tuple_value = tuple(str_value)"
   ]
  },
  {
   "cell_type": "code",
   "execution_count": 23,
   "id": "b9b27690-185f-47c0-88b2-e9238cc86476",
   "metadata": {},
   "outputs": [
    {
     "name": "stdout",
     "output_type": "stream",
     "text": [
      "('H', 'e', 'l', 'l', 'o')\n"
     ]
    }
   ],
   "source": [
    "print(tuple_value)"
   ]
  },
  {
   "cell_type": "code",
   "execution_count": 24,
   "id": "1382038b-2ef5-43ed-b4a1-3e7aef5f61f4",
   "metadata": {},
   "outputs": [],
   "source": [
    "set_value = set(str_value)"
   ]
  },
  {
   "cell_type": "code",
   "execution_count": 25,
   "id": "da002585-7acc-4d75-b4c4-87be4508fe08",
   "metadata": {},
   "outputs": [
    {
     "name": "stdout",
     "output_type": "stream",
     "text": [
      "{'e', 'o', 'H', 'l'}\n"
     ]
    }
   ],
   "source": [
    "print(set_value)"
   ]
  },
  {
   "cell_type": "code",
   "execution_count": 26,
   "id": "a193a065-23ed-49ce-bcf7-ace7e0d0b277",
   "metadata": {},
   "outputs": [],
   "source": [
    "# script.py\n",
    "num1 = 10\n",
    "num2 = 5\n",
    "sum = num1 + num2"
   ]
  },
  {
   "cell_type": "code",
   "execution_count": 27,
   "id": "edf9e756-2d4e-4b4b-b90f-7040a462bc17",
   "metadata": {},
   "outputs": [
    {
     "name": "stdout",
     "output_type": "stream",
     "text": [
      "The sum is: 15\n"
     ]
    }
   ],
   "source": [
    "print(\"The sum is:\", sum)"
   ]
  },
  {
   "cell_type": "code",
   "execution_count": 28,
   "id": "760c1789-4ad6-4046-a50d-36f93755629f",
   "metadata": {},
   "outputs": [],
   "source": [
    "#To slice a list and obtain a sub-list [2, 3] from the given list my_list = [1, 2, 3, 4, 5], you can use the indexing feature in Python. Here's the code to achieve that:\n"
   ]
  },
  {
   "cell_type": "code",
   "execution_count": 29,
   "id": "014468f9-d23d-47b1-9325-afda70c993bd",
   "metadata": {},
   "outputs": [],
   "source": [
    "my_list = [1, 2, 3, 4, 5]\n",
    "sub_list = my_list[1:3]"
   ]
  },
  {
   "cell_type": "code",
   "execution_count": 30,
   "id": "4895d9cc-0214-4144-9e19-ad1f7137b896",
   "metadata": {},
   "outputs": [
    {
     "name": "stdout",
     "output_type": "stream",
     "text": [
      "[2, 3]\n"
     ]
    }
   ],
   "source": [
    "print(sub_list)"
   ]
  },
  {
   "cell_type": "code",
   "execution_count": 31,
   "id": "1be93988-06d2-45f7-92c4-08d3482673be",
   "metadata": {},
   "outputs": [],
   "source": [
    "#In Python, complex numbers are represented using the complex data type. The imaginary unit is represented by j instead of i in Python. The syntax to define a complex number in Python is as follows:"
   ]
  },
  {
   "cell_type": "code",
   "execution_count": null,
   "id": "c53ef28e-c799-4465-b1f8-47acdbdf4dd1",
   "metadata": {},
   "outputs": [],
   "source": [
    "z = a + bj"
   ]
  },
  {
   "cell_type": "code",
   "execution_count": 33,
   "id": "fad7558a-f60b-48b5-8f4f-1caee18dd7a7",
   "metadata": {},
   "outputs": [],
   "source": [
    "z1 = 3 + 2j\n",
    "z2 = -1.5 + 0.5j"
   ]
  },
  {
   "cell_type": "code",
   "execution_count": 34,
   "id": "dbef3096-17fb-4a1c-a86b-a7d4eac9d69f",
   "metadata": {},
   "outputs": [],
   "source": [
    "z1 = 3 + 2j\n",
    "z2 = -1.5 + 0.5j\n",
    "\n",
    "sum = z1 + z2\n",
    "product = z1 * z2\n",
    "absolute_value = abs(z1)"
   ]
  },
  {
   "cell_type": "code",
   "execution_count": 35,
   "id": "d000b491-dc63-4cb7-96c1-71c54b42e7c8",
   "metadata": {},
   "outputs": [
    {
     "name": "stdout",
     "output_type": "stream",
     "text": [
      "Sum: (1.5+2.5j)\n"
     ]
    }
   ],
   "source": [
    "print(\"Sum:\", sum)"
   ]
  },
  {
   "cell_type": "code",
   "execution_count": 36,
   "id": "84c62d78-1634-4928-961f-f8f74e9f964a",
   "metadata": {},
   "outputs": [
    {
     "name": "stdout",
     "output_type": "stream",
     "text": [
      "Product: (-5.5-1.5j)\n"
     ]
    }
   ],
   "source": [
    "print(\"Product:\", product)"
   ]
  },
  {
   "cell_type": "code",
   "execution_count": 37,
   "id": "c6b24db2-9378-4901-a8a7-a51994ae1ba5",
   "metadata": {},
   "outputs": [
    {
     "name": "stdout",
     "output_type": "stream",
     "text": [
      "Absolute Value: 3.605551275463989\n"
     ]
    }
   ],
   "source": [
    "print(\"Absolute Value:\", absolute_value)"
   ]
  },
  {
   "cell_type": "code",
   "execution_count": 38,
   "id": "66bb11c5-37d5-436e-bf0f-b11ed330f194",
   "metadata": {},
   "outputs": [],
   "source": [
    "age = 25"
   ]
  },
  {
   "cell_type": "code",
   "execution_count": 39,
   "id": "eb382c07-948a-4ba1-813d-ceceeea2d8d6",
   "metadata": {},
   "outputs": [
    {
     "name": "stdout",
     "output_type": "stream",
     "text": [
      "Age: 25\n"
     ]
    }
   ],
   "source": [
    "print(\"Age:\", age)"
   ]
  },
  {
   "cell_type": "code",
   "execution_count": 40,
   "id": "e163c539-bf0a-4201-8965-bf78877099d8",
   "metadata": {},
   "outputs": [],
   "source": [
    "price = 9.99"
   ]
  },
  {
   "cell_type": "code",
   "execution_count": 41,
   "id": "bcd18651-5e52-4d89-8e7d-1114932de1b6",
   "metadata": {},
   "outputs": [
    {
     "name": "stdout",
     "output_type": "stream",
     "text": [
      "<class 'float'>\n"
     ]
    }
   ],
   "source": [
    "print(type(price))"
   ]
  },
  {
   "cell_type": "code",
   "execution_count": 43,
   "id": "37326e40-884f-46a0-9634-e39efa04cf16",
   "metadata": {},
   "outputs": [],
   "source": [
    "name = \"dimpy choudhry\""
   ]
  },
  {
   "cell_type": "code",
   "execution_count": 44,
   "id": "f42e0d13-a43c-4a00-b463-e9296e1eb928",
   "metadata": {},
   "outputs": [
    {
     "name": "stdout",
     "output_type": "stream",
     "text": [
      "dimpy choudhry\n"
     ]
    }
   ],
   "source": [
    "print(name)"
   ]
  },
  {
   "cell_type": "code",
   "execution_count": 45,
   "id": "4c584c18-1733-4568-9c03-0be2f7a0c247",
   "metadata": {},
   "outputs": [],
   "source": [
    "string = \"Hello, World!\"\n",
    "substring = string[7:12]"
   ]
  },
  {
   "cell_type": "code",
   "execution_count": 46,
   "id": "26d8a0df-905e-4daa-9b1d-621ab45a2bff",
   "metadata": {},
   "outputs": [
    {
     "name": "stdout",
     "output_type": "stream",
     "text": [
      "World\n"
     ]
    }
   ],
   "source": [
    "print(substring)"
   ]
  },
  {
   "cell_type": "code",
   "execution_count": 47,
   "id": "88b6983f-06f5-4e56-8364-b684aa4e4bda",
   "metadata": {},
   "outputs": [],
   "source": [
    "is_student = True"
   ]
  },
  {
   "cell_type": "code",
   "execution_count": 48,
   "id": "9b102840-d534-4b3a-9767-3698875829c4",
   "metadata": {},
   "outputs": [
    {
     "name": "stdout",
     "output_type": "stream",
     "text": [
      "True\n"
     ]
    }
   ],
   "source": [
    "print(is_student)"
   ]
  },
  {
   "cell_type": "code",
   "execution_count": null,
   "id": "1abf8bcf-22f5-4c57-99f7-573e2caaeb00",
   "metadata": {},
   "outputs": [],
   "source": []
  },
  {
   "cell_type": "code",
   "execution_count": null,
   "id": "34d20a6c-d577-4353-b85e-47b3c8acdc5f",
   "metadata": {},
   "outputs": [],
   "source": []
  }
 ],
 "metadata": {
  "kernelspec": {
   "display_name": "Python 3 (ipykernel)",
   "language": "python",
   "name": "python3"
  },
  "language_info": {
   "codemirror_mode": {
    "name": "ipython",
    "version": 3
   },
   "file_extension": ".py",
   "mimetype": "text/x-python",
   "name": "python",
   "nbconvert_exporter": "python",
   "pygments_lexer": "ipython3",
   "version": "3.10.8"
  }
 },
 "nbformat": 4,
 "nbformat_minor": 5
}
